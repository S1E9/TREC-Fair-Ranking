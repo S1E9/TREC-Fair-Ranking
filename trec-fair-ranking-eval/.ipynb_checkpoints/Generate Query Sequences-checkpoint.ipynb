{
 "cells": [
  {
   "cell_type": "code",
   "execution_count": null,
   "metadata": {},
   "outputs": [],
   "source": [
    "def generate_multiple_sequences(num, seq_len, query_distribution):\n",
    "    \"\"\"\n",
    "        Generates a list of query sequences with query IDs sampled from a given distribution \n",
    "        with replacement.\n",
    "\n",
    "        Input:\n",
    "            num: The number of sequences to generate.\n",
    "            seq_len: length of the sequence to be generated.\n",
    "            query_distribution: a list of tuples of the form:\n",
    "                [(query_id, query_freq), ...]\n",
    "        Output:\n",
    "            a list of query sequences of the form 'sequence_number.query_number,query_id' e.g.,\n",
    "            [['0.0,89123', '0.1,23837', '0.2,5438', '0.3,5438', '0.4,5438'],\n",
    "                 ['1.0,5438', '1.1,23837', '1.2,5438', '1.3,5438', '1.4,5438']]\n",
    "    \"\"\"\n",
    "    sequences = []\n",
    "    for i in range(num):\n",
    "        np.random.seed()\n",
    "\n",
    "        #normailze the frequencies to form a distribution\n",
    "        query_ids, distribution = zip(*query_distribution)\n",
    "        distribution /= sum(np.array(distribution))\n",
    "        sequence = np.random.choice(query_ids, size=seq_len, replace=True, p=distribution)\n",
    "        sequence = [str(i)+\".\"+str(idx)+\",\"+str(q) for idx, q in enumerate(sequence)]\n",
    "        sequences.append(sequence)\n",
    "    \n",
    "    return sequences"
   ]
  },
  {
   "cell_type": "code",
   "execution_count": null,
   "metadata": {},
   "outputs": [],
   "source": [
    "'''\n",
    "example usage: 5 sequences \n",
    "generate_multiple_sequences(5, 2000, query-distributions.tsv)\n",
    "'''"
   ]
  }
 ],
 "metadata": {
  "kernelspec": {
   "display_name": "Python 3",
   "language": "python",
   "name": "python3"
  },
  "language_info": {
   "codemirror_mode": {
    "name": "ipython",
    "version": 3
   },
   "file_extension": ".py",
   "mimetype": "text/x-python",
   "name": "python",
   "nbconvert_exporter": "python",
   "pygments_lexer": "ipython3",
   "version": "3.7.6"
  }
 },
 "nbformat": 4,
 "nbformat_minor": 4
}
